{
 "cells": [
  {
   "cell_type": "code",
   "execution_count": 139,
   "metadata": {},
   "outputs": [],
   "source": [
    "import pandas as pd"
   ]
  },
  {
   "cell_type": "code",
   "execution_count": 140,
   "metadata": {},
   "outputs": [
    {
     "data": {
      "text/html": [
       "<div>\n",
       "<style scoped>\n",
       "    .dataframe tbody tr th:only-of-type {\n",
       "        vertical-align: middle;\n",
       "    }\n",
       "\n",
       "    .dataframe tbody tr th {\n",
       "        vertical-align: top;\n",
       "    }\n",
       "\n",
       "    .dataframe thead th {\n",
       "        text-align: right;\n",
       "    }\n",
       "</style>\n",
       "<table border=\"1\" class=\"dataframe\">\n",
       "  <thead>\n",
       "    <tr style=\"text-align: right;\">\n",
       "      <th></th>\n",
       "      <th>scientific_name</th>\n",
       "      <th>park_name</th>\n",
       "      <th>observations</th>\n",
       "    </tr>\n",
       "  </thead>\n",
       "  <tbody>\n",
       "    <tr>\n",
       "      <th>0</th>\n",
       "      <td>Vicia benghalensis</td>\n",
       "      <td>Great Smoky Mountains National Park</td>\n",
       "      <td>68</td>\n",
       "    </tr>\n",
       "    <tr>\n",
       "      <th>1</th>\n",
       "      <td>Neovison vison</td>\n",
       "      <td>Great Smoky Mountains National Park</td>\n",
       "      <td>77</td>\n",
       "    </tr>\n",
       "    <tr>\n",
       "      <th>2</th>\n",
       "      <td>Prunus subcordata</td>\n",
       "      <td>Yosemite National Park</td>\n",
       "      <td>138</td>\n",
       "    </tr>\n",
       "    <tr>\n",
       "      <th>3</th>\n",
       "      <td>Abutilon theophrasti</td>\n",
       "      <td>Bryce National Park</td>\n",
       "      <td>84</td>\n",
       "    </tr>\n",
       "    <tr>\n",
       "      <th>4</th>\n",
       "      <td>Githopsis specularioides</td>\n",
       "      <td>Great Smoky Mountains National Park</td>\n",
       "      <td>85</td>\n",
       "    </tr>\n",
       "  </tbody>\n",
       "</table>\n",
       "</div>"
      ],
      "text/plain": [
       "            scientific_name                            park_name  observations\n",
       "0        Vicia benghalensis  Great Smoky Mountains National Park            68\n",
       "1            Neovison vison  Great Smoky Mountains National Park            77\n",
       "2         Prunus subcordata               Yosemite National Park           138\n",
       "3      Abutilon theophrasti                  Bryce National Park            84\n",
       "4  Githopsis specularioides  Great Smoky Mountains National Park            85"
      ]
     },
     "execution_count": 140,
     "metadata": {},
     "output_type": "execute_result"
    }
   ],
   "source": [
    "observation=pd.read_csv('observations.csv')\n",
    "observation.head()"
   ]
  },
  {
   "cell_type": "code",
   "execution_count": 141,
   "metadata": {},
   "outputs": [
    {
     "data": {
      "text/html": [
       "<div>\n",
       "<style scoped>\n",
       "    .dataframe tbody tr th:only-of-type {\n",
       "        vertical-align: middle;\n",
       "    }\n",
       "\n",
       "    .dataframe tbody tr th {\n",
       "        vertical-align: top;\n",
       "    }\n",
       "\n",
       "    .dataframe thead th {\n",
       "        text-align: right;\n",
       "    }\n",
       "</style>\n",
       "<table border=\"1\" class=\"dataframe\">\n",
       "  <thead>\n",
       "    <tr style=\"text-align: right;\">\n",
       "      <th></th>\n",
       "      <th>category</th>\n",
       "      <th>scientific_name</th>\n",
       "      <th>common_names</th>\n",
       "      <th>conservation_status</th>\n",
       "    </tr>\n",
       "  </thead>\n",
       "  <tbody>\n",
       "    <tr>\n",
       "      <th>0</th>\n",
       "      <td>Mammal</td>\n",
       "      <td>Clethrionomys gapperi gapperi</td>\n",
       "      <td>Gapper's Red-Backed Vole</td>\n",
       "      <td>NaN</td>\n",
       "    </tr>\n",
       "    <tr>\n",
       "      <th>1</th>\n",
       "      <td>Mammal</td>\n",
       "      <td>Bos bison</td>\n",
       "      <td>American Bison, Bison</td>\n",
       "      <td>NaN</td>\n",
       "    </tr>\n",
       "    <tr>\n",
       "      <th>2</th>\n",
       "      <td>Mammal</td>\n",
       "      <td>Bos taurus</td>\n",
       "      <td>Aurochs, Aurochs, Domestic Cattle (Feral), Dom...</td>\n",
       "      <td>NaN</td>\n",
       "    </tr>\n",
       "    <tr>\n",
       "      <th>3</th>\n",
       "      <td>Mammal</td>\n",
       "      <td>Ovis aries</td>\n",
       "      <td>Domestic Sheep, Mouflon, Red Sheep, Sheep (Feral)</td>\n",
       "      <td>NaN</td>\n",
       "    </tr>\n",
       "    <tr>\n",
       "      <th>4</th>\n",
       "      <td>Mammal</td>\n",
       "      <td>Cervus elaphus</td>\n",
       "      <td>Wapiti Or Elk</td>\n",
       "      <td>NaN</td>\n",
       "    </tr>\n",
       "  </tbody>\n",
       "</table>\n",
       "</div>"
      ],
      "text/plain": [
       "  category                scientific_name  \\\n",
       "0   Mammal  Clethrionomys gapperi gapperi   \n",
       "1   Mammal                      Bos bison   \n",
       "2   Mammal                     Bos taurus   \n",
       "3   Mammal                     Ovis aries   \n",
       "4   Mammal                 Cervus elaphus   \n",
       "\n",
       "                                        common_names conservation_status  \n",
       "0                           Gapper's Red-Backed Vole                 NaN  \n",
       "1                              American Bison, Bison                 NaN  \n",
       "2  Aurochs, Aurochs, Domestic Cattle (Feral), Dom...                 NaN  \n",
       "3  Domestic Sheep, Mouflon, Red Sheep, Sheep (Feral)                 NaN  \n",
       "4                                      Wapiti Or Elk                 NaN  "
      ]
     },
     "execution_count": 141,
     "metadata": {},
     "output_type": "execute_result"
    }
   ],
   "source": [
    "species=pd.read_csv('species_info.csv')\n",
    "species.head()"
   ]
  },
  {
   "cell_type": "code",
   "execution_count": 142,
   "metadata": {},
   "outputs": [
    {
     "name": "stdout",
     "output_type": "stream",
     "text": [
      "<class 'pandas.core.frame.DataFrame'>\n",
      "RangeIndex: 23296 entries, 0 to 23295\n",
      "Data columns (total 3 columns):\n",
      " #   Column           Non-Null Count  Dtype \n",
      "---  ------           --------------  ----- \n",
      " 0   scientific_name  23296 non-null  object\n",
      " 1   park_name        23296 non-null  object\n",
      " 2   observations     23296 non-null  int64 \n",
      "dtypes: int64(1), object(2)\n",
      "memory usage: 546.1+ KB\n"
     ]
    }
   ],
   "source": [
    "observation.info()"
   ]
  },
  {
   "cell_type": "code",
   "execution_count": 143,
   "metadata": {},
   "outputs": [
    {
     "name": "stdout",
     "output_type": "stream",
     "text": [
      "<class 'pandas.core.frame.DataFrame'>\n",
      "RangeIndex: 5824 entries, 0 to 5823\n",
      "Data columns (total 4 columns):\n",
      " #   Column               Non-Null Count  Dtype \n",
      "---  ------               --------------  ----- \n",
      " 0   category             5824 non-null   object\n",
      " 1   scientific_name      5824 non-null   object\n",
      " 2   common_names         5824 non-null   object\n",
      " 3   conservation_status  191 non-null    object\n",
      "dtypes: object(4)\n",
      "memory usage: 182.1+ KB\n"
     ]
    }
   ],
   "source": [
    "species.info()"
   ]
  },
  {
   "cell_type": "code",
   "execution_count": 144,
   "metadata": {},
   "outputs": [],
   "source": [
    "#  Since both Observation and Species have 'scientific_name' column common, we can merge the two dataframe. "
   ]
  },
  {
   "cell_type": "code",
   "execution_count": 145,
   "metadata": {},
   "outputs": [
    {
     "data": {
      "text/plain": [
       "23296"
      ]
     },
     "execution_count": 145,
     "metadata": {},
     "output_type": "execute_result"
    }
   ],
   "source": [
    "# checking if the scientific_name is same in both dataframe\n",
    "observation.scientific_name.isin(species.scientific_name).sum()"
   ]
  },
  {
   "cell_type": "code",
   "execution_count": 146,
   "metadata": {},
   "outputs": [
    {
     "data": {
      "text/html": [
       "<div>\n",
       "<style scoped>\n",
       "    .dataframe tbody tr th:only-of-type {\n",
       "        vertical-align: middle;\n",
       "    }\n",
       "\n",
       "    .dataframe tbody tr th {\n",
       "        vertical-align: top;\n",
       "    }\n",
       "\n",
       "    .dataframe thead th {\n",
       "        text-align: right;\n",
       "    }\n",
       "</style>\n",
       "<table border=\"1\" class=\"dataframe\">\n",
       "  <thead>\n",
       "    <tr style=\"text-align: right;\">\n",
       "      <th></th>\n",
       "      <th>scientific_name</th>\n",
       "      <th>park_name</th>\n",
       "      <th>observations</th>\n",
       "      <th>category</th>\n",
       "      <th>common_names</th>\n",
       "      <th>conservation_status</th>\n",
       "    </tr>\n",
       "  </thead>\n",
       "  <tbody>\n",
       "    <tr>\n",
       "      <th>0</th>\n",
       "      <td>Vicia benghalensis</td>\n",
       "      <td>Great Smoky Mountains National Park</td>\n",
       "      <td>68</td>\n",
       "      <td>Vascular Plant</td>\n",
       "      <td>Purple Vetch, Reddish Tufted Vetch</td>\n",
       "      <td>NaN</td>\n",
       "    </tr>\n",
       "    <tr>\n",
       "      <th>1</th>\n",
       "      <td>Vicia benghalensis</td>\n",
       "      <td>Yosemite National Park</td>\n",
       "      <td>148</td>\n",
       "      <td>Vascular Plant</td>\n",
       "      <td>Purple Vetch, Reddish Tufted Vetch</td>\n",
       "      <td>NaN</td>\n",
       "    </tr>\n",
       "    <tr>\n",
       "      <th>2</th>\n",
       "      <td>Vicia benghalensis</td>\n",
       "      <td>Yellowstone National Park</td>\n",
       "      <td>247</td>\n",
       "      <td>Vascular Plant</td>\n",
       "      <td>Purple Vetch, Reddish Tufted Vetch</td>\n",
       "      <td>NaN</td>\n",
       "    </tr>\n",
       "    <tr>\n",
       "      <th>3</th>\n",
       "      <td>Vicia benghalensis</td>\n",
       "      <td>Bryce National Park</td>\n",
       "      <td>104</td>\n",
       "      <td>Vascular Plant</td>\n",
       "      <td>Purple Vetch, Reddish Tufted Vetch</td>\n",
       "      <td>NaN</td>\n",
       "    </tr>\n",
       "    <tr>\n",
       "      <th>4</th>\n",
       "      <td>Neovison vison</td>\n",
       "      <td>Great Smoky Mountains National Park</td>\n",
       "      <td>77</td>\n",
       "      <td>Mammal</td>\n",
       "      <td>American Mink</td>\n",
       "      <td>NaN</td>\n",
       "    </tr>\n",
       "    <tr>\n",
       "      <th>...</th>\n",
       "      <td>...</td>\n",
       "      <td>...</td>\n",
       "      <td>...</td>\n",
       "      <td>...</td>\n",
       "      <td>...</td>\n",
       "      <td>...</td>\n",
       "    </tr>\n",
       "    <tr>\n",
       "      <th>25627</th>\n",
       "      <td>Gulo gulo</td>\n",
       "      <td>Yosemite National Park</td>\n",
       "      <td>157</td>\n",
       "      <td>Mammal</td>\n",
       "      <td>Wolverine</td>\n",
       "      <td>NaN</td>\n",
       "    </tr>\n",
       "    <tr>\n",
       "      <th>25628</th>\n",
       "      <td>Dichanthelium depauperatum</td>\n",
       "      <td>Great Smoky Mountains National Park</td>\n",
       "      <td>88</td>\n",
       "      <td>Vascular Plant</td>\n",
       "      <td>Green Panic-Grass, Panic Grass</td>\n",
       "      <td>NaN</td>\n",
       "    </tr>\n",
       "    <tr>\n",
       "      <th>25629</th>\n",
       "      <td>Dichanthelium depauperatum</td>\n",
       "      <td>Bryce National Park</td>\n",
       "      <td>80</td>\n",
       "      <td>Vascular Plant</td>\n",
       "      <td>Green Panic-Grass, Panic Grass</td>\n",
       "      <td>NaN</td>\n",
       "    </tr>\n",
       "    <tr>\n",
       "      <th>25630</th>\n",
       "      <td>Dichanthelium depauperatum</td>\n",
       "      <td>Yellowstone National Park</td>\n",
       "      <td>255</td>\n",
       "      <td>Vascular Plant</td>\n",
       "      <td>Green Panic-Grass, Panic Grass</td>\n",
       "      <td>NaN</td>\n",
       "    </tr>\n",
       "    <tr>\n",
       "      <th>25631</th>\n",
       "      <td>Dichanthelium depauperatum</td>\n",
       "      <td>Yosemite National Park</td>\n",
       "      <td>162</td>\n",
       "      <td>Vascular Plant</td>\n",
       "      <td>Green Panic-Grass, Panic Grass</td>\n",
       "      <td>NaN</td>\n",
       "    </tr>\n",
       "  </tbody>\n",
       "</table>\n",
       "<p>25632 rows × 6 columns</p>\n",
       "</div>"
      ],
      "text/plain": [
       "                  scientific_name                            park_name  \\\n",
       "0              Vicia benghalensis  Great Smoky Mountains National Park   \n",
       "1              Vicia benghalensis               Yosemite National Park   \n",
       "2              Vicia benghalensis            Yellowstone National Park   \n",
       "3              Vicia benghalensis                  Bryce National Park   \n",
       "4                  Neovison vison  Great Smoky Mountains National Park   \n",
       "...                           ...                                  ...   \n",
       "25627                   Gulo gulo               Yosemite National Park   \n",
       "25628  Dichanthelium depauperatum  Great Smoky Mountains National Park   \n",
       "25629  Dichanthelium depauperatum                  Bryce National Park   \n",
       "25630  Dichanthelium depauperatum            Yellowstone National Park   \n",
       "25631  Dichanthelium depauperatum               Yosemite National Park   \n",
       "\n",
       "       observations        category                        common_names  \\\n",
       "0                68  Vascular Plant  Purple Vetch, Reddish Tufted Vetch   \n",
       "1               148  Vascular Plant  Purple Vetch, Reddish Tufted Vetch   \n",
       "2               247  Vascular Plant  Purple Vetch, Reddish Tufted Vetch   \n",
       "3               104  Vascular Plant  Purple Vetch, Reddish Tufted Vetch   \n",
       "4                77          Mammal                       American Mink   \n",
       "...             ...             ...                                 ...   \n",
       "25627           157          Mammal                           Wolverine   \n",
       "25628            88  Vascular Plant      Green Panic-Grass, Panic Grass   \n",
       "25629            80  Vascular Plant      Green Panic-Grass, Panic Grass   \n",
       "25630           255  Vascular Plant      Green Panic-Grass, Panic Grass   \n",
       "25631           162  Vascular Plant      Green Panic-Grass, Panic Grass   \n",
       "\n",
       "      conservation_status  \n",
       "0                     NaN  \n",
       "1                     NaN  \n",
       "2                     NaN  \n",
       "3                     NaN  \n",
       "4                     NaN  \n",
       "...                   ...  \n",
       "25627                 NaN  \n",
       "25628                 NaN  \n",
       "25629                 NaN  \n",
       "25630                 NaN  \n",
       "25631                 NaN  \n",
       "\n",
       "[25632 rows x 6 columns]"
      ]
     },
     "execution_count": 146,
     "metadata": {},
     "output_type": "execute_result"
    }
   ],
   "source": [
    "# merging both dataframe\n",
    "df=pd.merge(observation,species)\n",
    "\n",
    "df"
   ]
  },
  {
   "cell_type": "code",
   "execution_count": 147,
   "metadata": {},
   "outputs": [
    {
     "data": {
      "text/html": [
       "<div>\n",
       "<style scoped>\n",
       "    .dataframe tbody tr th:only-of-type {\n",
       "        vertical-align: middle;\n",
       "    }\n",
       "\n",
       "    .dataframe tbody tr th {\n",
       "        vertical-align: top;\n",
       "    }\n",
       "\n",
       "    .dataframe thead th {\n",
       "        text-align: right;\n",
       "    }\n",
       "</style>\n",
       "<table border=\"1\" class=\"dataframe\">\n",
       "  <thead>\n",
       "    <tr style=\"text-align: right;\">\n",
       "      <th></th>\n",
       "      <th>scientific_name</th>\n",
       "      <th>park_name</th>\n",
       "      <th>observations</th>\n",
       "      <th>category</th>\n",
       "      <th>common_names</th>\n",
       "      <th>conservation_status</th>\n",
       "    </tr>\n",
       "  </thead>\n",
       "  <tbody>\n",
       "    <tr>\n",
       "      <th>count</th>\n",
       "      <td>25632</td>\n",
       "      <td>25632</td>\n",
       "      <td>25632.000000</td>\n",
       "      <td>25632</td>\n",
       "      <td>25632</td>\n",
       "      <td>880</td>\n",
       "    </tr>\n",
       "    <tr>\n",
       "      <th>unique</th>\n",
       "      <td>5541</td>\n",
       "      <td>4</td>\n",
       "      <td>NaN</td>\n",
       "      <td>7</td>\n",
       "      <td>5504</td>\n",
       "      <td>4</td>\n",
       "    </tr>\n",
       "    <tr>\n",
       "      <th>top</th>\n",
       "      <td>Myotis lucifugus</td>\n",
       "      <td>Great Smoky Mountains National Park</td>\n",
       "      <td>NaN</td>\n",
       "      <td>Vascular Plant</td>\n",
       "      <td>Dicranum Moss</td>\n",
       "      <td>Species of Concern</td>\n",
       "    </tr>\n",
       "    <tr>\n",
       "      <th>freq</th>\n",
       "      <td>36</td>\n",
       "      <td>6408</td>\n",
       "      <td>NaN</td>\n",
       "      <td>19560</td>\n",
       "      <td>28</td>\n",
       "      <td>732</td>\n",
       "    </tr>\n",
       "    <tr>\n",
       "      <th>mean</th>\n",
       "      <td>NaN</td>\n",
       "      <td>NaN</td>\n",
       "      <td>142.214693</td>\n",
       "      <td>NaN</td>\n",
       "      <td>NaN</td>\n",
       "      <td>NaN</td>\n",
       "    </tr>\n",
       "    <tr>\n",
       "      <th>std</th>\n",
       "      <td>NaN</td>\n",
       "      <td>NaN</td>\n",
       "      <td>69.912475</td>\n",
       "      <td>NaN</td>\n",
       "      <td>NaN</td>\n",
       "      <td>NaN</td>\n",
       "    </tr>\n",
       "    <tr>\n",
       "      <th>min</th>\n",
       "      <td>NaN</td>\n",
       "      <td>NaN</td>\n",
       "      <td>9.000000</td>\n",
       "      <td>NaN</td>\n",
       "      <td>NaN</td>\n",
       "      <td>NaN</td>\n",
       "    </tr>\n",
       "    <tr>\n",
       "      <th>25%</th>\n",
       "      <td>NaN</td>\n",
       "      <td>NaN</td>\n",
       "      <td>86.000000</td>\n",
       "      <td>NaN</td>\n",
       "      <td>NaN</td>\n",
       "      <td>NaN</td>\n",
       "    </tr>\n",
       "    <tr>\n",
       "      <th>50%</th>\n",
       "      <td>NaN</td>\n",
       "      <td>NaN</td>\n",
       "      <td>124.000000</td>\n",
       "      <td>NaN</td>\n",
       "      <td>NaN</td>\n",
       "      <td>NaN</td>\n",
       "    </tr>\n",
       "    <tr>\n",
       "      <th>75%</th>\n",
       "      <td>NaN</td>\n",
       "      <td>NaN</td>\n",
       "      <td>195.000000</td>\n",
       "      <td>NaN</td>\n",
       "      <td>NaN</td>\n",
       "      <td>NaN</td>\n",
       "    </tr>\n",
       "    <tr>\n",
       "      <th>max</th>\n",
       "      <td>NaN</td>\n",
       "      <td>NaN</td>\n",
       "      <td>321.000000</td>\n",
       "      <td>NaN</td>\n",
       "      <td>NaN</td>\n",
       "      <td>NaN</td>\n",
       "    </tr>\n",
       "  </tbody>\n",
       "</table>\n",
       "</div>"
      ],
      "text/plain": [
       "         scientific_name                            park_name  observations  \\\n",
       "count              25632                                25632  25632.000000   \n",
       "unique              5541                                    4           NaN   \n",
       "top     Myotis lucifugus  Great Smoky Mountains National Park           NaN   \n",
       "freq                  36                                 6408           NaN   \n",
       "mean                 NaN                                  NaN    142.214693   \n",
       "std                  NaN                                  NaN     69.912475   \n",
       "min                  NaN                                  NaN      9.000000   \n",
       "25%                  NaN                                  NaN     86.000000   \n",
       "50%                  NaN                                  NaN    124.000000   \n",
       "75%                  NaN                                  NaN    195.000000   \n",
       "max                  NaN                                  NaN    321.000000   \n",
       "\n",
       "              category   common_names conservation_status  \n",
       "count            25632          25632                 880  \n",
       "unique               7           5504                   4  \n",
       "top     Vascular Plant  Dicranum Moss  Species of Concern  \n",
       "freq             19560             28                 732  \n",
       "mean               NaN            NaN                 NaN  \n",
       "std                NaN            NaN                 NaN  \n",
       "min                NaN            NaN                 NaN  \n",
       "25%                NaN            NaN                 NaN  \n",
       "50%                NaN            NaN                 NaN  \n",
       "75%                NaN            NaN                 NaN  \n",
       "max                NaN            NaN                 NaN  "
      ]
     },
     "execution_count": 147,
     "metadata": {},
     "output_type": "execute_result"
    }
   ],
   "source": [
    "df.describe(include='all')"
   ]
  },
  {
   "cell_type": "code",
   "execution_count": 148,
   "metadata": {},
   "outputs": [],
   "source": [
    "# Cleaning Data (EDA)"
   ]
  },
  {
   "cell_type": "code",
   "execution_count": 149,
   "metadata": {},
   "outputs": [
    {
     "data": {
      "text/html": [
       "<div>\n",
       "<style scoped>\n",
       "    .dataframe tbody tr th:only-of-type {\n",
       "        vertical-align: middle;\n",
       "    }\n",
       "\n",
       "    .dataframe tbody tr th {\n",
       "        vertical-align: top;\n",
       "    }\n",
       "\n",
       "    .dataframe thead th {\n",
       "        text-align: right;\n",
       "    }\n",
       "</style>\n",
       "<table border=\"1\" class=\"dataframe\">\n",
       "  <thead>\n",
       "    <tr style=\"text-align: right;\">\n",
       "      <th></th>\n",
       "      <th>scientific_name</th>\n",
       "      <th>park_name</th>\n",
       "      <th>observations</th>\n",
       "      <th>category</th>\n",
       "      <th>common_names</th>\n",
       "      <th>conservation_status</th>\n",
       "    </tr>\n",
       "  </thead>\n",
       "  <tbody>\n",
       "    <tr>\n",
       "      <th>0</th>\n",
       "      <td>Vicia benghalensis</td>\n",
       "      <td>Great Smoky Mountains</td>\n",
       "      <td>68</td>\n",
       "      <td>Vascular Plant</td>\n",
       "      <td>Purple Vetch, Reddish Tufted Vetch</td>\n",
       "      <td>NaN</td>\n",
       "    </tr>\n",
       "    <tr>\n",
       "      <th>1</th>\n",
       "      <td>Vicia benghalensis</td>\n",
       "      <td>Yosemite</td>\n",
       "      <td>148</td>\n",
       "      <td>Vascular Plant</td>\n",
       "      <td>Purple Vetch, Reddish Tufted Vetch</td>\n",
       "      <td>NaN</td>\n",
       "    </tr>\n",
       "    <tr>\n",
       "      <th>2</th>\n",
       "      <td>Vicia benghalensis</td>\n",
       "      <td>Yellowstone</td>\n",
       "      <td>247</td>\n",
       "      <td>Vascular Plant</td>\n",
       "      <td>Purple Vetch, Reddish Tufted Vetch</td>\n",
       "      <td>NaN</td>\n",
       "    </tr>\n",
       "    <tr>\n",
       "      <th>3</th>\n",
       "      <td>Vicia benghalensis</td>\n",
       "      <td>Bryce</td>\n",
       "      <td>104</td>\n",
       "      <td>Vascular Plant</td>\n",
       "      <td>Purple Vetch, Reddish Tufted Vetch</td>\n",
       "      <td>NaN</td>\n",
       "    </tr>\n",
       "    <tr>\n",
       "      <th>4</th>\n",
       "      <td>Neovison vison</td>\n",
       "      <td>Great Smoky Mountains</td>\n",
       "      <td>77</td>\n",
       "      <td>Mammal</td>\n",
       "      <td>American Mink</td>\n",
       "      <td>NaN</td>\n",
       "    </tr>\n",
       "    <tr>\n",
       "      <th>...</th>\n",
       "      <td>...</td>\n",
       "      <td>...</td>\n",
       "      <td>...</td>\n",
       "      <td>...</td>\n",
       "      <td>...</td>\n",
       "      <td>...</td>\n",
       "    </tr>\n",
       "    <tr>\n",
       "      <th>25627</th>\n",
       "      <td>Gulo gulo</td>\n",
       "      <td>Yosemite</td>\n",
       "      <td>157</td>\n",
       "      <td>Mammal</td>\n",
       "      <td>Wolverine</td>\n",
       "      <td>NaN</td>\n",
       "    </tr>\n",
       "    <tr>\n",
       "      <th>25628</th>\n",
       "      <td>Dichanthelium depauperatum</td>\n",
       "      <td>Great Smoky Mountains</td>\n",
       "      <td>88</td>\n",
       "      <td>Vascular Plant</td>\n",
       "      <td>Green Panic-Grass, Panic Grass</td>\n",
       "      <td>NaN</td>\n",
       "    </tr>\n",
       "    <tr>\n",
       "      <th>25629</th>\n",
       "      <td>Dichanthelium depauperatum</td>\n",
       "      <td>Bryce</td>\n",
       "      <td>80</td>\n",
       "      <td>Vascular Plant</td>\n",
       "      <td>Green Panic-Grass, Panic Grass</td>\n",
       "      <td>NaN</td>\n",
       "    </tr>\n",
       "    <tr>\n",
       "      <th>25630</th>\n",
       "      <td>Dichanthelium depauperatum</td>\n",
       "      <td>Yellowstone</td>\n",
       "      <td>255</td>\n",
       "      <td>Vascular Plant</td>\n",
       "      <td>Green Panic-Grass, Panic Grass</td>\n",
       "      <td>NaN</td>\n",
       "    </tr>\n",
       "    <tr>\n",
       "      <th>25631</th>\n",
       "      <td>Dichanthelium depauperatum</td>\n",
       "      <td>Yosemite</td>\n",
       "      <td>162</td>\n",
       "      <td>Vascular Plant</td>\n",
       "      <td>Green Panic-Grass, Panic Grass</td>\n",
       "      <td>NaN</td>\n",
       "    </tr>\n",
       "  </tbody>\n",
       "</table>\n",
       "<p>25632 rows × 6 columns</p>\n",
       "</div>"
      ],
      "text/plain": [
       "                  scientific_name              park_name  observations  \\\n",
       "0              Vicia benghalensis  Great Smoky Mountains            68   \n",
       "1              Vicia benghalensis               Yosemite           148   \n",
       "2              Vicia benghalensis            Yellowstone           247   \n",
       "3              Vicia benghalensis                  Bryce           104   \n",
       "4                  Neovison vison  Great Smoky Mountains            77   \n",
       "...                           ...                    ...           ...   \n",
       "25627                   Gulo gulo               Yosemite           157   \n",
       "25628  Dichanthelium depauperatum  Great Smoky Mountains            88   \n",
       "25629  Dichanthelium depauperatum                  Bryce            80   \n",
       "25630  Dichanthelium depauperatum            Yellowstone           255   \n",
       "25631  Dichanthelium depauperatum               Yosemite           162   \n",
       "\n",
       "             category                        common_names conservation_status  \n",
       "0      Vascular Plant  Purple Vetch, Reddish Tufted Vetch                 NaN  \n",
       "1      Vascular Plant  Purple Vetch, Reddish Tufted Vetch                 NaN  \n",
       "2      Vascular Plant  Purple Vetch, Reddish Tufted Vetch                 NaN  \n",
       "3      Vascular Plant  Purple Vetch, Reddish Tufted Vetch                 NaN  \n",
       "4              Mammal                       American Mink                 NaN  \n",
       "...               ...                                 ...                 ...  \n",
       "25627          Mammal                           Wolverine                 NaN  \n",
       "25628  Vascular Plant      Green Panic-Grass, Panic Grass                 NaN  \n",
       "25629  Vascular Plant      Green Panic-Grass, Panic Grass                 NaN  \n",
       "25630  Vascular Plant      Green Panic-Grass, Panic Grass                 NaN  \n",
       "25631  Vascular Plant      Green Panic-Grass, Panic Grass                 NaN  \n",
       "\n",
       "[25632 rows x 6 columns]"
      ]
     },
     "execution_count": 149,
     "metadata": {},
     "output_type": "execute_result"
    }
   ],
   "source": [
    "# changing park names \n",
    "df.replace({'Great Smoky Mountains National Park':'Great Smoky Mountains','Yosemite National Park':'Yosemite','Yellowstone National Park':'Yellowstone','Bryce National Park':'Bryce'})"
   ]
  },
  {
   "cell_type": "code",
   "execution_count": 150,
   "metadata": {},
   "outputs": [
    {
     "data": {
      "text/plain": [
       "scientific_name            0\n",
       "park_name                  0\n",
       "observations               0\n",
       "category                   0\n",
       "common_names               0\n",
       "conservation_status    24752\n",
       "dtype: int64"
      ]
     },
     "execution_count": 150,
     "metadata": {},
     "output_type": "execute_result"
    }
   ],
   "source": [
    "# checking null values\n",
    "df.isna().sum()"
   ]
  },
  {
   "cell_type": "code",
   "execution_count": 151,
   "metadata": {},
   "outputs": [
    {
     "data": {
      "text/plain": [
       "array([nan, 'Species of Concern', 'Threatened', 'Endangered',\n",
       "       'In Recovery'], dtype=object)"
      ]
     },
     "execution_count": 151,
     "metadata": {},
     "output_type": "execute_result"
    }
   ],
   "source": [
    "df.conservation_status.unique()"
   ]
  },
  {
   "cell_type": "code",
   "execution_count": 152,
   "metadata": {},
   "outputs": [],
   "source": [
    "df.conservation_status.fillna('Not at Risk',inplace=True)"
   ]
  },
  {
   "cell_type": "code",
   "execution_count": 153,
   "metadata": {},
   "outputs": [
    {
     "data": {
      "text/plain": [
       "Not at Risk           24752\n",
       "Species of Concern      732\n",
       "Endangered               80\n",
       "Threatened               44\n",
       "In Recovery              24\n",
       "Name: conservation_status, dtype: int64"
      ]
     },
     "execution_count": 153,
     "metadata": {},
     "output_type": "execute_result"
    }
   ],
   "source": [
    "df.conservation_status.value_counts()"
   ]
  },
  {
   "cell_type": "code",
   "execution_count": 154,
   "metadata": {},
   "outputs": [
    {
     "data": {
      "text/plain": [
       "scientific_name        Monotropa hypopithysMonotropa hypopithysPlanta...\n",
       "park_name              Great Smoky Mountains National ParkGreat Smoky...\n",
       "observations                                                        4875\n",
       "category               Vascular PlantVascular PlantVascular PlantVasc...\n",
       "common_names           American Pinesap, Pine-SapPinesapNipple-Seed P...\n",
       "conservation_status    Not at RiskNot at RiskNot at RiskNot at RiskNo...\n",
       "dtype: object"
      ]
     },
     "execution_count": 154,
     "metadata": {},
     "output_type": "execute_result"
    }
   ],
   "source": [
    "# Finding duplicate observations\n",
    "df[df.duplicated()].sum()"
   ]
  },
  {
   "cell_type": "code",
   "execution_count": 155,
   "metadata": {},
   "outputs": [
    {
     "data": {
      "text/plain": [
       "31"
      ]
     },
     "execution_count": 155,
     "metadata": {},
     "output_type": "execute_result"
    }
   ],
   "source": [
    "df.duplicated().sum()"
   ]
  },
  {
   "cell_type": "code",
   "execution_count": 156,
   "metadata": {},
   "outputs": [
    {
     "name": "stdout",
     "output_type": "stream",
     "text": [
      "25632\n",
      "25601\n"
     ]
    }
   ],
   "source": [
    "print(len(df))\n",
    "df.drop_duplicates(inplace=True)\n",
    "print(len(df))\n"
   ]
  },
  {
   "cell_type": "code",
   "execution_count": null,
   "metadata": {},
   "outputs": [],
   "source": []
  },
  {
   "cell_type": "code",
   "execution_count": null,
   "metadata": {},
   "outputs": [],
   "source": []
  },
  {
   "cell_type": "code",
   "execution_count": null,
   "metadata": {},
   "outputs": [],
   "source": []
  },
  {
   "cell_type": "code",
   "execution_count": null,
   "metadata": {},
   "outputs": [],
   "source": []
  },
  {
   "cell_type": "code",
   "execution_count": 157,
   "metadata": {},
   "outputs": [
    {
     "data": {
      "text/plain": [
       "25632"
      ]
     },
     "execution_count": 157,
     "metadata": {},
     "output_type": "execute_result"
    }
   ],
   "source": [
    "# checking non null values \n",
    "merged_df.category.notnull().sum()"
   ]
  },
  {
   "cell_type": "code",
   "execution_count": null,
   "metadata": {},
   "outputs": [],
   "source": []
  },
  {
   "cell_type": "code",
   "execution_count": null,
   "metadata": {},
   "outputs": [],
   "source": []
  },
  {
   "cell_type": "code",
   "execution_count": null,
   "metadata": {},
   "outputs": [],
   "source": []
  },
  {
   "cell_type": "code",
   "execution_count": null,
   "metadata": {},
   "outputs": [],
   "source": []
  },
  {
   "cell_type": "code",
   "execution_count": null,
   "metadata": {},
   "outputs": [],
   "source": []
  },
  {
   "cell_type": "code",
   "execution_count": null,
   "metadata": {},
   "outputs": [],
   "source": []
  },
  {
   "cell_type": "code",
   "execution_count": null,
   "metadata": {},
   "outputs": [],
   "source": []
  },
  {
   "cell_type": "code",
   "execution_count": null,
   "metadata": {},
   "outputs": [],
   "source": []
  },
  {
   "cell_type": "code",
   "execution_count": null,
   "metadata": {},
   "outputs": [],
   "source": []
  },
  {
   "cell_type": "code",
   "execution_count": null,
   "metadata": {},
   "outputs": [],
   "source": []
  },
  {
   "cell_type": "code",
   "execution_count": null,
   "metadata": {},
   "outputs": [],
   "source": []
  },
  {
   "cell_type": "code",
   "execution_count": null,
   "metadata": {},
   "outputs": [],
   "source": []
  },
  {
   "cell_type": "code",
   "execution_count": null,
   "metadata": {},
   "outputs": [],
   "source": []
  },
  {
   "cell_type": "code",
   "execution_count": null,
   "metadata": {},
   "outputs": [],
   "source": []
  },
  {
   "cell_type": "code",
   "execution_count": null,
   "metadata": {},
   "outputs": [],
   "source": []
  },
  {
   "cell_type": "code",
   "execution_count": null,
   "metadata": {},
   "outputs": [],
   "source": []
  },
  {
   "cell_type": "code",
   "execution_count": null,
   "metadata": {},
   "outputs": [],
   "source": []
  },
  {
   "cell_type": "code",
   "execution_count": null,
   "metadata": {},
   "outputs": [],
   "source": []
  },
  {
   "cell_type": "code",
   "execution_count": null,
   "metadata": {},
   "outputs": [],
   "source": []
  }
 ],
 "metadata": {
  "kernelspec": {
   "display_name": "Python 3 (ipykernel)",
   "language": "python",
   "name": "python3"
  },
  "language_info": {
   "codemirror_mode": {
    "name": "ipython",
    "version": 3
   },
   "file_extension": ".py",
   "mimetype": "text/x-python",
   "name": "python",
   "nbconvert_exporter": "python",
   "pygments_lexer": "ipython3",
   "version": "3.10.9"
  }
 },
 "nbformat": 4,
 "nbformat_minor": 4
}
