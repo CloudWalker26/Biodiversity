{
 "cells": [
  {
   "cell_type": "code",
   "execution_count": null,
   "id": "507ba916",
   "metadata": {},
   "outputs": [],
   "source": [
    "# conservation_status = 5 type ca do some sort of graph to represent. \n",
    "# It is ordinal categorical variable. "
   ]
  },
  {
   "cell_type": "code",
   "execution_count": null,
   "id": "8a66b6f1",
   "metadata": {},
   "outputs": [],
   "source": [
    "# There are 4 park names, it is nominal variable \n",
    "# we can do bar graph and compare "
   ]
  },
  {
   "cell_type": "code",
   "execution_count": null,
   "id": "1552bcff",
   "metadata": {},
   "outputs": [],
   "source": [
    "#  we can work on category and see what level each category are \n",
    "#  a graph on this type "
   ]
  },
  {
   "cell_type": "code",
   "execution_count": null,
   "id": "418991d0",
   "metadata": {},
   "outputs": [],
   "source": [
    "#  nothing can be done with scientific name and observvation. \n",
    "#  we can use observation for graph as that is the only numerical value in the table. "
   ]
  },
  {
   "cell_type": "code",
   "execution_count": null,
   "id": "3eaedcf6",
   "metadata": {},
   "outputs": [],
   "source": []
  },
  {
   "cell_type": "code",
   "execution_count": null,
   "id": "810d62d8",
   "metadata": {},
   "outputs": [],
   "source": []
  },
  {
   "cell_type": "code",
   "execution_count": null,
   "id": "939a2a30",
   "metadata": {},
   "outputs": [],
   "source": []
  },
  {
   "cell_type": "code",
   "execution_count": null,
   "id": "25fd4bfe",
   "metadata": {},
   "outputs": [],
   "source": []
  },
  {
   "cell_type": "code",
   "execution_count": null,
   "id": "b688b398",
   "metadata": {},
   "outputs": [],
   "source": []
  },
  {
   "cell_type": "code",
   "execution_count": null,
   "id": "ec735691",
   "metadata": {},
   "outputs": [],
   "source": []
  }
 ],
 "metadata": {
  "kernelspec": {
   "display_name": "Python 3 (ipykernel)",
   "language": "python",
   "name": "python3"
  },
  "language_info": {
   "codemirror_mode": {
    "name": "ipython",
    "version": 3
   },
   "file_extension": ".py",
   "mimetype": "text/x-python",
   "name": "python",
   "nbconvert_exporter": "python",
   "pygments_lexer": "ipython3",
   "version": "3.10.9"
  }
 },
 "nbformat": 4,
 "nbformat_minor": 5
}
